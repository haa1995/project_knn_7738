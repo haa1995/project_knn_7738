{
 "cells": [
  {
   "cell_type": "markdown",
   "metadata": {},
   "source": [
    "## Ilustrasi Algoritma K-NN"
   ]
  },
  {
   "cell_type": "markdown",
   "metadata": {},
   "source": [
    "- Kasus:\n",
    "\n",
    "Sebuah pabrik benang, melakukan pengujian terhadap bahan yang akan dijual. Pengukuran yang dilakukan adalah kekuatan tarikan sebuah benang. Hasil dari pengujian sebelumnya adalah:\n",
    "\n",
    "X, Y, Z\n",
    "\n",
    "7, 6, Bagus\n",
    "\n",
    "7, 4, Bagus\n",
    "\n",
    "3, 4, Jelek\n",
    "\n",
    "2, 4, Jelek\n",
    "\n",
    "Dimana X adalah banyaknya serat, Y adalah banyaknya uliran, dan Z adalah hasil pengujian\n",
    "Hari ini, pabrik tersebut akan membuat sebuah benang baru dengan kriteria banyaknya serat (X) = 3, dan banyaknya uliran (Y) = 6.\n",
    "\n",
    "- Pertanyaan:\n",
    "\n",
    "Prediksi kan, apakah benang baru tersebut termasuk bagus atau jelek menggunakan algoritma K-NN"
   ]
  },
  {
   "cell_type": "markdown",
   "metadata": {},
   "source": [
    "## Step 1 "
   ]
  },
  {
   "cell_type": "markdown",
   "metadata": {},
   "source": [
    "Rubah dataset dalam bentuk array:"
   ]
  },
  {
   "cell_type": "code",
   "execution_count": 1,
   "metadata": {},
   "outputs": [],
   "source": [
    "dataset = [\n",
    "    [7,6,\"Bagus\"],\n",
    "    [7,4,\"Bagus\"],\n",
    "    [3,4,\"Jelek\"],\n",
    "    [2,4,\"Jelek\"]\n",
    "]"
   ]
  },
  {
   "cell_type": "markdown",
   "metadata": {},
   "source": [
    "Masukkan masing2 value ke dalam variabel X, Y, dan Z"
   ]
  },
  {
   "cell_type": "code",
   "execution_count": 2,
   "metadata": {},
   "outputs": [],
   "source": [
    "all_X = [d[0] for d in dataset]\n",
    "all_Y = [d[1] for d in dataset]\n",
    "all_Z  = [d[2] for d in dataset]"
   ]
  },
  {
   "cell_type": "code",
   "execution_count": 3,
   "metadata": {},
   "outputs": [
    {
     "name": "stdout",
     "output_type": "stream",
     "text": [
      "[7, 7, 3, 2]\n",
      "[6, 4, 4, 4]\n",
      "['Bagus', 'Bagus', 'Jelek', 'Jelek']\n"
     ]
    }
   ],
   "source": [
    "print(all_X)\n",
    "print(all_Y)\n",
    "print(all_Z)"
   ]
  },
  {
   "cell_type": "markdown",
   "metadata": {},
   "source": [
    "## Step 2 "
   ]
  },
  {
   "cell_type": "markdown",
   "metadata": {},
   "source": [
    "Menghitung kedekatan dari data yang baru, menggunakan rumus Euclidian:\n",
    "\n",
    "d = √(x1-x2)^2 + (y1-y2)^2"
   ]
  },
  {
   "cell_type": "code",
   "execution_count": 4,
   "metadata": {},
   "outputs": [
    {
     "name": "stdout",
     "output_type": "stream",
     "text": [
      "Jarak (7,6) -> (7-3)^2 + (6-6)^2 = 16\n",
      "Jarak (7,4) -> (7-3)^2 + (4-6)^2 = 20\n",
      "Jarak (3,4) -> (3-3)^2 + (4-6)^2 = 4\n",
      "Jarak (2,4) -> (2-3)^2 + (4-6)^2 = 5\n"
     ]
    }
   ],
   "source": [
    "from tqdm import tqdm_notebook\n",
    "\n",
    "X_uji = 3\n",
    "Y_uji = 6\n",
    "\n",
    "matrix_result = []\n",
    "\n",
    "for i in range(len(dataset)):\n",
    "    x1 = all_X[i]\n",
    "    y1 = all_Y[i]\n",
    "    x2 = X_uji\n",
    "    y2 = Y_uji\n",
    "    z = all_Z[i]\n",
    "    \n",
    "    d = ((all_X[i] - X_uji)**2) + ((all_Y[i] - Y_uji)**2)\n",
    "    \n",
    "    print(\"Jarak ({x1},{y1}) -> ({x1}-{x2})^2 + ({y1}-{y2})^2 = {d}\".format(x1=x1, x2=x2, y1=y1, y2=y2, d=d))\n",
    "    \n",
    "    matrix_result.append([all_X[i], all_Y[i], d, all_Z[i]])"
   ]
  },
  {
   "cell_type": "code",
   "execution_count": 5,
   "metadata": {},
   "outputs": [
    {
     "name": "stdout",
     "output_type": "stream",
     "text": [
      "X\tY\tJarak\tHasil\n",
      "------------------------------\n",
      "7\t6\t16\tBagus\n",
      "7\t4\t20\tBagus\n",
      "3\t4\t4\tJelek\n",
      "2\t4\t5\tJelek\n"
     ]
    }
   ],
   "source": [
    "print(\"X\\tY\\tJarak\\tHasil\")\n",
    "print('-'*30)\n",
    "for m in matrix_result:\n",
    "    print(\"{0}\\t{1}\\t{2}\\t{3}\".format(m[0],m[1],m[2],m[3]))"
   ]
  },
  {
   "cell_type": "markdown",
   "metadata": {},
   "source": [
    "## Step 3"
   ]
  },
  {
   "cell_type": "markdown",
   "metadata": {},
   "source": [
    "Mengurutkan jarak terpendek ke terpanjang"
   ]
  },
  {
   "cell_type": "code",
   "execution_count": 6,
   "metadata": {},
   "outputs": [],
   "source": [
    "matrix_sorted = sorted(matrix_result, key=lambda x: x[2], reverse=False)"
   ]
  },
  {
   "cell_type": "code",
   "execution_count": 7,
   "metadata": {},
   "outputs": [
    {
     "name": "stdout",
     "output_type": "stream",
     "text": [
      "X\tY\tJarak\tHasil\n",
      "------------------------------\n",
      "3\t4\t4\tJelek\n",
      "2\t4\t5\tJelek\n",
      "7\t6\t16\tBagus\n",
      "7\t4\t20\tBagus\n"
     ]
    }
   ],
   "source": [
    "print(\"X\\tY\\tJarak\\tHasil\")\n",
    "print('-'*30)\n",
    "for m in matrix_sorted:\n",
    "    print(\"{0}\\t{1}\\t{2}\\t{3}\".format(m[0],m[1],m[2],m[3]))"
   ]
  },
  {
   "cell_type": "markdown",
   "metadata": {},
   "source": [
    "## Step 4"
   ]
  },
  {
   "cell_type": "markdown",
   "metadata": {},
   "source": [
    "Menentukan jumlah K, dan memotong matrix sesuai jumlah K.\n",
    "\n",
    "Sebagai contoh, kita menggunakan K=3"
   ]
  },
  {
   "cell_type": "code",
   "execution_count": 8,
   "metadata": {},
   "outputs": [],
   "source": [
    "k = 3\n",
    "matrix_k3 = []\n",
    "\n",
    "for m in matrix_sorted[:k]:\n",
    "    matrix_k3.append(m)"
   ]
  },
  {
   "cell_type": "code",
   "execution_count": 9,
   "metadata": {},
   "outputs": [
    {
     "name": "stdout",
     "output_type": "stream",
     "text": [
      "X\tY\tJarak\tHasil\n",
      "------------------------------\n",
      "3\t4\t4\tJelek\n",
      "2\t4\t5\tJelek\n",
      "7\t6\t16\tBagus\n"
     ]
    }
   ],
   "source": [
    "print(\"X\\tY\\tJarak\\tHasil\")\n",
    "print('-'*30)\n",
    "for m in matrix_k3:\n",
    "    print(\"{0}\\t{1}\\t{2}\\t{3}\".format(m[0],m[1],m[2],m[3]))"
   ]
  },
  {
   "cell_type": "markdown",
   "metadata": {},
   "source": [
    "## Step 5"
   ]
  },
  {
   "cell_type": "markdown",
   "metadata": {},
   "source": [
    "Kesimpulan:\n",
    "\n",
    "Dengan melihat matrix yang tersisa, dapat diambil kesimpulan bahwa benang yang baru dengan X=3 dan Y=6, adalah \"JELEK\""
   ]
  },
  {
   "cell_type": "code",
   "execution_count": 10,
   "metadata": {},
   "outputs": [
    {
     "name": "stdout",
     "output_type": "stream",
     "text": [
      "Jelek\n"
     ]
    }
   ],
   "source": [
    "jumlah_jelek = 0\n",
    "jumlah_bagus = 0\n",
    "\n",
    "for m in matrix_k3:\n",
    "    if m[3] == \"Bagus\":\n",
    "        jumlah_bagus += 1\n",
    "    else:\n",
    "        jumlah_jelek += 1\n",
    "        \n",
    "if jumlah_bagus > jumlah_jelek:\n",
    "    prediksi = \"Bagus\"\n",
    "else:\n",
    "    prediksi = \"Jelek\"\n",
    "    \n",
    "print(prediksi)"
   ]
  },
  {
   "cell_type": "code",
   "execution_count": null,
   "metadata": {},
   "outputs": [],
   "source": []
  },
  {
   "cell_type": "markdown",
   "metadata": {},
   "source": [
    "## Using Library "
   ]
  },
  {
   "cell_type": "markdown",
   "metadata": {},
   "source": [
    "Dengan menggunakan library python yaitu Scikit.Learn, dapat diselesaikan dengan code berikut:"
   ]
  },
  {
   "cell_type": "code",
   "execution_count": 11,
   "metadata": {},
   "outputs": [],
   "source": [
    "all_X = [[d[2]] for d in matrix_result]\n",
    "all_Z = [d[3] for d in matrix_result]"
   ]
  },
  {
   "cell_type": "code",
   "execution_count": 12,
   "metadata": {},
   "outputs": [
    {
     "name": "stdout",
     "output_type": "stream",
     "text": [
      "\n"
     ]
    }
   ],
   "source": [
    "from sklearn.neighbors import KNeighborsClassifier\n",
    "\n",
    "neigh = KNeighborsClassifier(n_neighbors=3)\n",
    "neigh.fit(all_X, all_Z)\n",
    "print('')"
   ]
  },
  {
   "cell_type": "markdown",
   "metadata": {},
   "source": [
    "Untuk memprediksi suatu nilai termasuk \"Bagus\" atau \"Jelek\", maka:"
   ]
  },
  {
   "cell_type": "code",
   "execution_count": 13,
   "metadata": {},
   "outputs": [
    {
     "name": "stdout",
     "output_type": "stream",
     "text": [
      "['Jelek']\n"
     ]
    }
   ],
   "source": [
    "print(neigh.predict([[3]]))"
   ]
  },
  {
   "cell_type": "code",
   "execution_count": 14,
   "metadata": {},
   "outputs": [
    {
     "name": "stdout",
     "output_type": "stream",
     "text": [
      "['Jelek']\n"
     ]
    }
   ],
   "source": [
    "print(neigh.predict([[6]]))"
   ]
  },
  {
   "cell_type": "code",
   "execution_count": 15,
   "metadata": {},
   "outputs": [
    {
     "name": "stdout",
     "output_type": "stream",
     "text": [
      "['Bagus']\n"
     ]
    }
   ],
   "source": [
    "print(neigh.predict([[15]]))"
   ]
  },
  {
   "cell_type": "code",
   "execution_count": null,
   "metadata": {},
   "outputs": [],
   "source": []
  }
 ],
 "metadata": {
  "kernelspec": {
   "display_name": "Python 3",
   "language": "python",
   "name": "python3"
  },
  "language_info": {
   "codemirror_mode": {
    "name": "ipython",
    "version": 3
   },
   "file_extension": ".py",
   "mimetype": "text/x-python",
   "name": "python",
   "nbconvert_exporter": "python",
   "pygments_lexer": "ipython3",
   "version": "3.7.0"
  }
 },
 "nbformat": 4,
 "nbformat_minor": 2
}
